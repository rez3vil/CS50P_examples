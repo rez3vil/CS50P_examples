#!code calculator.py

def main():
    x = input("What's x?")
    print("x squared is", square(x))

def square(n):
    return n*n

if __name__ == "__main__":
    main()


#!code test_calculator.py

import pytest
from calculator import square

def test_positive():
    assert square(2) == 4
    assert square(3) == 9

def test_negative():
    assert square(-2) == 4
    assert square(-3) == 9

def test_zero():
    assert square(0) == 0

def test_str():
    with pytest.raises(TypeError):
        square("cat")

===========================================

#!code hello.py

def main():
    name = input("what's your name?")
    print(hello(name))

def hello(to="world"):
    return f"hello, {to}"

if __name__ == "__main__":
    main()

#!code test_hello.py

from hello import hello

def test_default():
    assert hello("David") == "hello, David"

def test_argument():
    assert hello() == "hello, world"

def test_potterworld():
    for name in ["Hermoine", "Harry", "Ron"]:
        assert hello(name) == f"hello, {name}"

======================================================

#!mkdir test
#!code test/test_hello.py

from hello import hello

def test_default():
    assert hello() == "hello, world"

def test_arguments():
    assert hello("David") == "hello, David"

#!code test/__init__.py
