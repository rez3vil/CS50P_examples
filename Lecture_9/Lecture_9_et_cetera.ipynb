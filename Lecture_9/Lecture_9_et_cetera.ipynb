{
 "cells": [
  {
   "cell_type": "markdown",
   "metadata": {},
   "source": [
    "a)global"
   ]
  },
  {
   "cell_type": "code",
   "execution_count": 1,
   "metadata": {},
   "outputs": [],
   "source": [
    "!code bank.py"
   ]
  },
  {
   "cell_type": "code",
   "execution_count": null,
   "metadata": {},
   "outputs": [],
   "source": [
    "balance = 0\n",
    "\n",
    "def main():\n",
    "    print(\"Balance:\", balance)\n",
    "    deposit(100)\n",
    "    withdraw(50)\n",
    "    print(\"Balance:\", balance)\n",
    "\n",
    "def deposit(n):\n",
    "    global balance\n",
    "    balance += n\n",
    "\n",
    "def withdraw(n):\n",
    "    global balance\n",
    "    balance -= n\n",
    "\n",
    "if __name__ == \"__main__\":\n",
    "    main()"
   ]
  },
  {
   "cell_type": "code",
   "execution_count": null,
   "metadata": {},
   "outputs": [],
   "source": [
    "class Account:\n",
    "    def __init__(self):\n",
    "        self._balance = 0\n",
    "\n",
    "    @property\n",
    "    def balance(self):\n",
    "        return self._balance\n",
    "    \n",
    "    def deposit(self, n):\n",
    "        self._balance += n\n",
    "\n",
    "    def withdraw(self, n):\n",
    "        self._balance -= n\n",
    "\n",
    "def main():\n",
    "    account = Account()\n",
    "    print(\"Balance:\", account.balance)\n",
    "    account.deposit(100)\n",
    "    account.withdraw(50)\n",
    "    print(\"Balance:\", account.balance)\n",
    "\n",
    "if __name__ == \"__main__\":\n",
    "    main()"
   ]
  },
  {
   "cell_type": "markdown",
   "metadata": {},
   "source": [
    "b) Constants"
   ]
  },
  {
   "cell_type": "code",
   "execution_count": 4,
   "metadata": {},
   "outputs": [],
   "source": [
    "!code meows.py"
   ]
  },
  {
   "cell_type": "code",
   "execution_count": null,
   "metadata": {},
   "outputs": [],
   "source": [
    "class Cat:\n",
    "    MEOWS = 3\n",
    "\n",
    "    def meow(self):\n",
    "        for _ in range(Cat.MEOWS):\n",
    "            print(\"meow\")\n",
    "\n",
    "cat = Cat()\n",
    "cat.meow()"
   ]
  },
  {
   "cell_type": "markdown",
   "metadata": {},
   "source": [
    "c) type hints"
   ]
  },
  {
   "cell_type": "code",
   "execution_count": 3,
   "metadata": {},
   "outputs": [
    {
     "name": "stdout",
     "output_type": "stream",
     "text": [
      "Collecting mypy\n",
      "  Downloading mypy-1.8.0-cp311-cp311-manylinux_2_17_x86_64.manylinux2014_x86_64.whl.metadata (1.8 kB)\n",
      "Requirement already satisfied: typing-extensions>=4.1.0 in /home/administrator/anaconda3/envs/myml/lib/python3.11/site-packages (from mypy) (4.9.0)\n",
      "Collecting mypy-extensions>=1.0.0 (from mypy)\n",
      "  Downloading mypy_extensions-1.0.0-py3-none-any.whl.metadata (1.1 kB)\n",
      "Downloading mypy-1.8.0-cp311-cp311-manylinux_2_17_x86_64.manylinux2014_x86_64.whl (12.4 MB)\n",
      "\u001b[2K   \u001b[90m━━━━━━━━━━━━━━━━━━━━━━━━━━━━━━━━━━━━━━━━\u001b[0m \u001b[32m12.4/12.4 MB\u001b[0m \u001b[31m10.2 MB/s\u001b[0m eta \u001b[36m0:00:00\u001b[0m00:01\u001b[0m00:01\u001b[0m\n",
      "\u001b[?25hDownloading mypy_extensions-1.0.0-py3-none-any.whl (4.7 kB)\n",
      "Installing collected packages: mypy-extensions, mypy\n",
      "Successfully installed mypy-1.8.0 mypy-extensions-1.0.0\n"
     ]
    }
   ],
   "source": [
    "!pip install mypy"
   ]
  },
  {
   "cell_type": "code",
   "execution_count": null,
   "metadata": {},
   "outputs": [],
   "source": [
    "def meow(n: int) -> str:\n",
    "    return \"meow\\n\" * n\n",
    "\n",
    "number: int = int(input(\"Number: \"))\n",
    "meows: str = meow(number)\n",
    "print(meows, end=\"\")"
   ]
  },
  {
   "cell_type": "markdown",
   "metadata": {},
   "source": [
    "d) docstrings"
   ]
  },
  {
   "cell_type": "code",
   "execution_count": null,
   "metadata": {},
   "outputs": [],
   "source": [
    "def meow(n: int) -> str:\n",
    "    \"\"\"\n",
    "    Meow n times.\n",
    "    \n",
    "    :param n: Number of time to meow\n",
    "    :type n: int\n",
    "    :raise TypeError: if n is not an int\n",
    "    :return: A string of n meows, one per line\n",
    "    :rtype: str\n",
    "    \"\"\"\n",
    "    return \"meow\\n\" * n\n",
    "\n",
    "number: int = int(input(\"Number: \"))\n",
    "meows: str = meow(number)\n",
    "print(meows, end=\"\")"
   ]
  },
  {
   "cell_type": "markdown",
   "metadata": {},
   "source": [
    "e) argparse"
   ]
  },
  {
   "cell_type": "code",
   "execution_count": null,
   "metadata": {},
   "outputs": [],
   "source": [
    "import sys\n",
    "\n",
    "if len(sys.argv) == 1:\n",
    "    print(\"meow\")\n",
    "elif len(sys.argv) == 3 and sys.argv[1] == \"-n\":\n",
    "    n = int(sys.argv[2])\n",
    "    for _ in range(n):\n",
    "        print(\"meow\")\n",
    "else:\n",
    "    print(\"usage: meows.py\")"
   ]
  },
  {
   "cell_type": "code",
   "execution_count": null,
   "metadata": {},
   "outputs": [],
   "source": []
  }
 ],
 "metadata": {
  "kernelspec": {
   "display_name": "myml",
   "language": "python",
   "name": "python3"
  },
  "language_info": {
   "codemirror_mode": {
    "name": "ipython",
    "version": 3
   },
   "file_extension": ".py",
   "mimetype": "text/x-python",
   "name": "python",
   "nbconvert_exporter": "python",
   "pygments_lexer": "ipython3",
   "version": "3.11.3"
  }
 },
 "nbformat": 4,
 "nbformat_minor": 2
}
